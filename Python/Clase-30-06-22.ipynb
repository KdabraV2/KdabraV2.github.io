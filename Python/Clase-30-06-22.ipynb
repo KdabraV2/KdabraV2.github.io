{
 "cells": [
  {
   "cell_type": "code",
   "execution_count": 24,
   "metadata": {},
   "outputs": [
    {
     "name": "stdout",
     "output_type": "stream",
     "text": [
      "pera\n",
      "manzana\n",
      "banano\n",
      "durazno\n",
      "Finalizamos\n",
      "5\n",
      "4\n",
      "3\n",
      "2\n",
      "1\n",
      "Lista de Numeros 60\n",
      "Lista de Numeros 80\n",
      "Lista de Numeros 50\n",
      "Lista de textos Nicolás\n",
      "Lista de textos Morales Zambrano\n",
      "Lista de textos EPS\n",
      "Lista de datos Diferentes True\n"
     ]
    }
   ],
   "source": [
    "frutas = ['pera','manzana','banano','durazno']\n",
    "for fruta in frutas:\n",
    "    print(fruta)\n",
    "\n",
    "print('Finalizamos')\n",
    "\n",
    "contador = [5,4,3,2,1]\n",
    "for numero in contador:\n",
    "    print(numero)\n",
    "\n",
    "datos = ['Nicolás','Morales Zambrano',60,80,'EPS',50,True]\n",
    "datos_texto = []\n",
    "datos_numeros = []\n",
    "datos_diferentes = []\n",
    "\n",
    "for dato in datos:\n",
    "    if type(dato)== int:\n",
    "        datos_numeros.append(dato)\n",
    "    elif type(dato)== str:\n",
    "        datos_texto.append(dato)\n",
    "    else:\n",
    "        datos_diferentes.append(dato)\n",
    "\n",
    "for dn in datos_numeros:\n",
    "    print(f'Lista de Numeros {dn}')\n",
    "for dt in datos_texto:\n",
    "    print(f'Lista de textos {dt}')\n",
    "for df in datos_diferentes:\n",
    "    print(f'Lista de datos Diferentes {df}')\n",
    "\n",
    "mensaje=''\n",
    "mensaje_inicial = 'Lista de numeros'\n",
    "for dn in datos_numeros:\n",
    "     mensaje_inicial + str(dn)\n"
   ]
  },
  {
   "cell_type": "code",
   "execution_count": 17,
   "metadata": {},
   "outputs": [
    {
     "name": "stdout",
     "output_type": "stream",
     "text": [
      "Usted ha ingresado una pera\n",
      "la fruta seleccionada manzana no es permitida\n",
      "Usted ha ingresado una banano\n",
      "la fruta seleccionada durazno no es permitida\n"
     ]
    }
   ],
   "source": [
    "frutas = ['pera','manzana','banano','durazno']\n",
    "for fruta in frutas:\n",
    "    if fruta=='pera':\n",
    "        print(f'Usted ha ingresado una {fruta}')\n",
    "    elif fruta=='banano':\n",
    "        print(f'Usted ha ingresado una {fruta}')\n",
    "    else:\n",
    "        print(f'la fruta seleccionada {fruta} no es permitida')\n",
    "    #print(i)"
   ]
  },
  {
   "cell_type": "code",
   "execution_count": null,
   "metadata": {},
   "outputs": [],
   "source": []
  }
 ],
 "metadata": {
  "kernelspec": {
   "display_name": "Python 3.10.4 64-bit",
   "language": "python",
   "name": "python3"
  },
  "language_info": {
   "codemirror_mode": {
    "name": "ipython",
    "version": 3
   },
   "file_extension": ".py",
   "mimetype": "text/x-python",
   "name": "python",
   "nbconvert_exporter": "python",
   "pygments_lexer": "ipython3",
   "version": "3.10.4"
  },
  "orig_nbformat": 4,
  "vscode": {
   "interpreter": {
    "hash": "4417a6a1ffa9f1017045b2811d743875d5fd0cd1f1733ffc3ec2f8d337b144e1"
   }
  }
 },
 "nbformat": 4,
 "nbformat_minor": 2
}
