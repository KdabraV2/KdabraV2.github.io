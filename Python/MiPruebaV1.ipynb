{
 "cells": [
  {
   "cell_type": "code",
   "execution_count": 7,
   "metadata": {},
   "outputs": [
    {
     "name": "stdout",
     "output_type": "stream",
     "text": [
      "hola Nicolás Morales Zambrano, tienes un peso de 68 kilogramos y además tienes una altura de 1.76 metros, tu edad es de 23\n",
      "Hola Nicolás Morales Zambrano, tu peso es de 68, tu altura es de 1.76, tu edad es de 23 \n"
     ]
    }
   ],
   "source": [
    "nombre = 'Nicolás '\n",
    "apellidos = 'Morales Zambrano'\n",
    "nombrecompleto = nombre + apellidos\n",
    "peso = 68\n",
    "altura = 1.76\n",
    "edad = 23\n",
    "print('hola {}, tienes un peso de {} kilogramos y además tienes una altura de {} metros, tu edad es de {}' .format(nombrecompleto,peso,altura,edad))\n",
    "\n",
    "\n",
    "print(f'Hola {nombrecompleto}, tu peso es de {peso}, tu altura es de {altura}, tu edad es de {edad} ')"
   ]
  }
 ],
 "metadata": {
  "kernelspec": {
   "display_name": "Python 3.10.4 64-bit",
   "language": "python",
   "name": "python3"
  },
  "language_info": {
   "codemirror_mode": {
    "name": "ipython",
    "version": 3
   },
   "file_extension": ".py",
   "mimetype": "text/x-python",
   "name": "python",
   "nbconvert_exporter": "python",
   "pygments_lexer": "ipython3",
   "version": "3.10.4"
  },
  "orig_nbformat": 4,
  "vscode": {
   "interpreter": {
    "hash": "4417a6a1ffa9f1017045b2811d743875d5fd0cd1f1733ffc3ec2f8d337b144e1"
   }
  }
 },
 "nbformat": 4,
 "nbformat_minor": 2
}
