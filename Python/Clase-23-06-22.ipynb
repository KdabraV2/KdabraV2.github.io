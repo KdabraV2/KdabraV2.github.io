{
 "cells": [
  {
   "cell_type": "code",
   "execution_count": 17,
   "metadata": {},
   "outputs": [
    {
     "name": "stdout",
     "output_type": "stream",
     "text": [
      "Perdiste tolimense, ingresaste el número 20.0 y el número del sistema es 20\n"
     ]
    }
   ],
   "source": [
    "#Ciclos y Condicionales\n",
    "## IF, ELSE, ELIF\n",
    "\n",
    "numero_uno = float(input('Ingrese el numero'))\n",
    "numero_sistema = 20\n",
    "\n",
    "if numero_uno > numero_sistema:\n",
    "    print('Ganaste tolimense')\n",
    "else:\n",
    "    print(f'Perdiste tolimense, ingresaste el número {numero_uno} y el número del sistema es {numero_sistema}')\n"
   ]
  },
  {
   "cell_type": "code",
   "execution_count": 36,
   "metadata": {},
   "outputs": [],
   "source": [
    "numero_uno = float(input('Ingrese el numero'))\n",
    "numero_sistema = 20\n",
    "\n",
    "if numero_uno > numero_sistema:\n",
    "    if numero_uno <50:\n",
    "        numero_dos = float(input('Vuelve a intentarlo tolimense'))\n",
    "        if numero_dos > numero_sistema:\n",
    "            print('Ahora si ganaste tolimense')\n",
    "        else:\n",
    "            print('Perdiste nuevamente')\n",
    "elif numero_uno < numero_sistema:\n",
    "    print(f'Perdiste tolimense, ingresaste el número {numero_uno} y el número del sistema es {numero_sistema}')\n",
    "else:\n",
    "    print('Empataste Tolimense')"
   ]
  },
  {
   "cell_type": "code",
   "execution_count": 21,
   "metadata": {},
   "outputs": [],
   "source": [
    "numero_uno = float(input('Ingrese el numero'))\n",
    "numero_sistema = 20\n",
    "\n",
    "if numero_uno > numero_sistema:\n",
    "    print('Ganaste tolimense')\n",
    "elif numero_uno < numero_sistema:\n",
    "    print(f'Perdiste tolimense, ingresaste el número {numero_uno} y el número del sistema es {numero_sistema}')\n",
    "else:\n",
    "    print('Empataste Tolimense')"
   ]
  }
 ],
 "metadata": {
  "kernelspec": {
   "display_name": "Python 3.10.4 64-bit",
   "language": "python",
   "name": "python3"
  },
  "language_info": {
   "codemirror_mode": {
    "name": "ipython",
    "version": 3
   },
   "file_extension": ".py",
   "mimetype": "text/x-python",
   "name": "python",
   "nbconvert_exporter": "python",
   "pygments_lexer": "ipython3",
   "version": "3.10.4"
  },
  "orig_nbformat": 4,
  "vscode": {
   "interpreter": {
    "hash": "4417a6a1ffa9f1017045b2811d743875d5fd0cd1f1733ffc3ec2f8d337b144e1"
   }
  }
 },
 "nbformat": 4,
 "nbformat_minor": 2
}
