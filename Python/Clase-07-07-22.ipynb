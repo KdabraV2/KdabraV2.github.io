{
 "cells": [
  {
   "cell_type": "code",
   "execution_count": 2,
   "metadata": {},
   "outputs": [
    {
     "name": "stdout",
     "output_type": "stream",
     "text": [
      "Hola Tolimense\n"
     ]
    }
   ],
   "source": [
    "def saludar():\n",
    "    print('Hola Tolimense')\n",
    "\n",
    "saludar()"
   ]
  },
  {
   "cell_type": "code",
   "execution_count": 5,
   "metadata": {},
   "outputs": [
    {
     "name": "stdout",
     "output_type": "stream",
     "text": [
      "Hola Tolima Tolimense\n"
     ]
    }
   ],
   "source": [
    "Nombre_Completo = str(input('Nombre Y Apellidos'))\n",
    "\n",
    "def saludarV2 ():\n",
    "    print(f'Hola {Nombre_Completo}')\n",
    "\n",
    "saludarV2()\n",
    "    "
   ]
  },
  {
   "cell_type": "code",
   "execution_count": null,
   "metadata": {},
   "outputs": [],
   "source": [
    "def Numero():\n",
    "    return 1\n"
   ]
  },
  {
   "cell_type": "code",
   "execution_count": null,
   "metadata": {},
   "outputs": [],
   "source": [
    "numeros = numero()\n",
    "\n",
    "if numeros == 1:\n",
    "    print('Encontró el numero')"
   ]
  },
  {
   "cell_type": "code",
   "execution_count": 13,
   "metadata": {},
   "outputs": [
    {
     "name": "stdout",
     "output_type": "stream",
     "text": [
      "5.0\n"
     ]
    }
   ],
   "source": [
    "def multiplicacion(numero1,numero2):\n",
    "    print(numero1/numero2)\n",
    "\n",
    "multiplicacion(10,2)"
   ]
  }
 ],
 "metadata": {
  "kernelspec": {
   "display_name": "Python 3.10.4 64-bit",
   "language": "python",
   "name": "python3"
  },
  "language_info": {
   "codemirror_mode": {
    "name": "ipython",
    "version": 3
   },
   "file_extension": ".py",
   "mimetype": "text/x-python",
   "name": "python",
   "nbconvert_exporter": "python",
   "pygments_lexer": "ipython3",
   "version": "3.10.4"
  },
  "orig_nbformat": 4,
  "vscode": {
   "interpreter": {
    "hash": "4417a6a1ffa9f1017045b2811d743875d5fd0cd1f1733ffc3ec2f8d337b144e1"
   }
  }
 },
 "nbformat": 4,
 "nbformat_minor": 2
}
