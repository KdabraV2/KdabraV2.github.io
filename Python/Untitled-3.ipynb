{
 "cells": [
  {
   "cell_type": "code",
   "execution_count": 9,
   "metadata": {},
   "outputs": [
    {
     "name": "stdout",
     "output_type": "stream",
     "text": [
      "387420489\n",
      "hola mundo, q hubo men\n",
      "23\n"
     ]
    }
   ],
   "source": [
    "print(9**9)\n",
    "saludo = ', q hubo men'\n",
    "edad = 23\n",
    "print('hola mundo' + saludo)\n",
    "print(edad)\n",
    "\n",
    "\n"
   ]
  }
 ],
 "metadata": {
  "kernelspec": {
   "display_name": "Python 3.10.4 64-bit",
   "language": "python",
   "name": "python3"
  },
  "language_info": {
   "codemirror_mode": {
    "name": "ipython",
    "version": 3
   },
   "file_extension": ".py",
   "mimetype": "text/x-python",
   "name": "python",
   "nbconvert_exporter": "python",
   "pygments_lexer": "ipython3",
   "version": "3.10.4"
  },
  "orig_nbformat": 4,
  "vscode": {
   "interpreter": {
    "hash": "4417a6a1ffa9f1017045b2811d743875d5fd0cd1f1733ffc3ec2f8d337b144e1"
   }
  }
 },
 "nbformat": 4,
 "nbformat_minor": 2
}
