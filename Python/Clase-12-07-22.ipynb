{
 "cells": [
  {
   "cell_type": "code",
   "execution_count": 1,
   "metadata": {},
   "outputs": [
    {
     "name": "stdout",
     "output_type": "stream",
     "text": [
      "tolima\n"
     ]
    }
   ],
   "source": [
    "def distancia_planetas_sol(planeta):\n",
    "    if planeta=='Mercurio':\n",
    "        return int('46 Mill Km')\n",
    "    elif planeta=='Venus':\n",
    "        return int('107 Mill Km')\n",
    "    elif planeta=='Tierra':\n",
    "        return int('147 Mill Km')\n",
    "    elif planeta=='Marte':\n",
    "        return int('205 Mill Km')\n",
    "    elif planeta=='Jupiter':\n",
    "        return int('741 Mill Km')\n",
    "    elif planeta=='Saturno':\n",
    "        return int('1.354 Mill Km')\n",
    "    elif planeta=='Urano':\n",
    "        return int('2.748 Mill Km')\n",
    "    elif planeta=='Neptuno':\n",
    "        return int('4.453 Mill Km')\n",
    "    else:\n",
    "        print('No es parte del Sistema solar')\n",
    "\n",
    "\n"
   ]
  },
  {
   "cell_type": "code",
   "execution_count": null,
   "metadata": {},
   "outputs": [],
   "source": []
  },
  {
   "cell_type": "code",
   "execution_count": 1,
   "metadata": {},
   "outputs": [],
   "source": [
    "nombres_tolimenses = {\n",
    "    'Nombres' : 'Nicolás',\n",
    "    'Apellidos' : 'Morales Zambrano',\n",
    "    'Edad' : '23',\n",
    "    'Telefono Celular' : '3178869189'\n",
    "}"
   ]
  }
 ],
 "metadata": {
  "kernelspec": {
   "display_name": "Python 3.10.4 64-bit",
   "language": "python",
   "name": "python3"
  },
  "language_info": {
   "codemirror_mode": {
    "name": "ipython",
    "version": 3
   },
   "file_extension": ".py",
   "mimetype": "text/x-python",
   "name": "python",
   "nbconvert_exporter": "python",
   "pygments_lexer": "ipython3",
   "version": "3.10.4"
  },
  "orig_nbformat": 4,
  "vscode": {
   "interpreter": {
    "hash": "4417a6a1ffa9f1017045b2811d743875d5fd0cd1f1733ffc3ec2f8d337b144e1"
   }
  }
 },
 "nbformat": 4,
 "nbformat_minor": 2
}
