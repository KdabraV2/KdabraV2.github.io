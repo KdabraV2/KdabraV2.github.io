{
 "cells": [
  {
   "cell_type": "code",
   "execution_count": 2,
   "metadata": {},
   "outputs": [],
   "source": [
    "datos = ['Nicolás','Morales Zambrano',60,80,'EPS',50,True]\n",
    "datos_texto = []\n",
    "datos_numeros = []\n",
    "datos_diferentes = []\n",
    "for dato in datos:\n",
    "    if type(dato)== int:\n",
    "        datos_numeros.append(dato)\n",
    "        break\n",
    "    elif type(dato)== str:\n",
    "        datos_texto.append(dato)\n",
    "    else:\n",
    "        datos_diferentes.append(dato)"
   ]
  },
  {
   "cell_type": "code",
   "execution_count": 4,
   "metadata": {},
   "outputs": [
    {
     "name": "stdout",
     "output_type": "stream",
     "text": [
      "[0, 2, 4, 6]\n",
      "0\n",
      "2\n",
      "4\n",
      "6\n",
      "['a', 'b', 'c']\n",
      "a\n",
      "b\n",
      "c\n",
      "finalizar\n"
     ]
    }
   ],
   "source": [
    "numeros = [0,2,4,6]\n",
    "letras = ['a','b','c']\n",
    "\n",
    "#manera 1\n",
    "elementos = [numeros,letras]\n",
    "#manera 2\n",
    "elementos_uno = list()\n",
    "elementos_uno.append(numeros)\n",
    "elementos_uno.append(letras)\n",
    "\n",
    "for elemento in elementos :\n",
    "    print(elemento)\n",
    "    for validar_item in elemento:\n",
    "        print(validar_item)\n",
    "\n",
    "print('finalizar')"
   ]
  },
  {
   "cell_type": "code",
   "execution_count": 8,
   "metadata": {},
   "outputs": [],
   "source": [
    "usuarios = list()\n",
    "\n",
    "for veces in range(2):\n",
    "    datospersona = [input('Nombre'),input('Apellido'),int(input('Edad'))]\n",
    "    direcciones = [input('Direccion de la casa'),input('Direccion del trabajo')]\n",
    "    usuario = [datospersona,direcciones]\n",
    "    usuarios.append(usuario)\n"
   ]
  },
  {
   "cell_type": "code",
   "execution_count": 9,
   "metadata": {},
   "outputs": [
    {
     "name": "stdout",
     "output_type": "stream",
     "text": [
      "[[['n', 'm', 45], ['fgg', 'gh']], [['n', 'r', 56], ['67', '6t']]]\n"
     ]
    }
   ],
   "source": [
    "print(usuarios)"
   ]
  },
  {
   "cell_type": "code",
   "execution_count": 11,
   "metadata": {},
   "outputs": [
    {
     "name": "stdout",
     "output_type": "stream",
     "text": [
      "0\n",
      "1\n",
      "2\n",
      "3\n",
      "4\n",
      "Acabó tolima\n"
     ]
    }
   ],
   "source": [
    "numero = 0\n",
    "\n",
    "while numero < 5:\n",
    "    print(numero)\n",
    "    numero+=1\n",
    "\n",
    "print('Acabó tolima')"
   ]
  },
  {
   "cell_type": "code",
   "execution_count": 12,
   "metadata": {},
   "outputs": [
    {
     "name": "stdout",
     "output_type": "stream",
     "text": [
      "Usted encontró el Nombre Tolimense\n"
     ]
    }
   ],
   "source": [
    "nombre = input('Nombre')\n",
    "\n",
    "while nombre != 'Nicolás':\n",
    "    nombre=input('Nombre')\n",
    "\n",
    "print('Usted encontró el Nombre Tolimense')"
   ]
  },
  {
   "cell_type": "code",
   "execution_count": 13,
   "metadata": {},
   "outputs": [
    {
     "name": "stdout",
     "output_type": "stream",
     "text": [
      "19\n",
      "18\n",
      "18\n"
     ]
    }
   ],
   "source": [
    "numero = 20\n",
    "\n",
    "while numero >=1:\n",
    "    if numero %3 == 0:\n",
    "        print(numero)\n",
    "        break\n",
    "    else:\n",
    "        numero -= 1\n",
    "        print(numero)"
   ]
  },
  {
   "cell_type": "code",
   "execution_count": 2,
   "metadata": {},
   "outputs": [
    {
     "name": "stdout",
     "output_type": "stream",
     "text": [
      "19,17,16,14,13,11,10,8,7,5,4,2,1,"
     ]
    }
   ],
   "source": [
    "numero = 20 \n",
    "\n",
    "while numero >= 1:\n",
    "    numero -= 1\n",
    "    if numero % 3 ==0:\n",
    "        continue\n",
    "    print(numero, end=',')\n"
   ]
  }
 ],
 "metadata": {
  "kernelspec": {
   "display_name": "Python 3.10.4 64-bit",
   "language": "python",
   "name": "python3"
  },
  "language_info": {
   "codemirror_mode": {
    "name": "ipython",
    "version": 3
   },
   "file_extension": ".py",
   "mimetype": "text/x-python",
   "name": "python",
   "nbconvert_exporter": "python",
   "pygments_lexer": "ipython3",
   "version": "3.10.4"
  },
  "orig_nbformat": 4,
  "vscode": {
   "interpreter": {
    "hash": "4417a6a1ffa9f1017045b2811d743875d5fd0cd1f1733ffc3ec2f8d337b144e1"
   }
  }
 },
 "nbformat": 4,
 "nbformat_minor": 2
}
