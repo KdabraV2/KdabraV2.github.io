{
 "cells": [
  {
   "cell_type": "code",
   "execution_count": 29,
   "metadata": {},
   "outputs": [
    {
     "name": "stdout",
     "output_type": "stream",
     "text": [
      "Nicolas Bienvenido\n",
      "77.71428571428571\n",
      "69.75\n",
      "Hola Nicolas tienes 69.75\n",
      "hola Nicolas , tienes una altura de 1.75 ademas tienes un peso de 68\n"
     ]
    }
   ],
   "source": [
    "nombre = 'Nicolas '\n",
    "saludo = 'Bienvenido'\n",
    "\n",
    "\n",
    "print(nombre + saludo)\n",
    "\n",
    "altura = 1.75\n",
    "peso = 68\n",
    "\n",
    "\n",
    "#altura = input('Por favor ingrese su altura')\n",
    "#peso = input('Por favor ingrese su peso')\n",
    "\n",
    "\n",
    "#imc = peso / altura *2\n",
    "#print(imc)\n",
    "print(peso / altura*2)\n",
    "\n",
    "type(5.9)\n",
    "\n",
    "\n",
    "Tarjeta = True\n",
    "#type(Tarjeta)\n",
    "#print(Tarjeta)\n",
    "\n",
    "total = altura + peso\n",
    "print(total)\n",
    "\n",
    "print('Hola ' + nombre + 'tienes ' + str(total))\n",
    "print('hola {}, tienes una altura de {} ademas tienes un peso de {}' .format(nombre, altura, peso))"
   ]
  }
 ],
 "metadata": {
  "kernelspec": {
   "display_name": "Python 3.10.4 64-bit",
   "language": "python",
   "name": "python3"
  },
  "language_info": {
   "codemirror_mode": {
    "name": "ipython",
    "version": 3
   },
   "file_extension": ".py",
   "mimetype": "text/x-python",
   "name": "python",
   "nbconvert_exporter": "python",
   "pygments_lexer": "ipython3",
   "version": "3.10.4"
  },
  "orig_nbformat": 4,
  "vscode": {
   "interpreter": {
    "hash": "4417a6a1ffa9f1017045b2811d743875d5fd0cd1f1733ffc3ec2f8d337b144e1"
   }
  }
 },
 "nbformat": 4,
 "nbformat_minor": 2
}
